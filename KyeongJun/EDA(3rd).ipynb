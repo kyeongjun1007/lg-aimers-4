{
 "cells": [
  {
   "cell_type": "code",
   "execution_count": 2,
   "id": "66df1233-8a9b-4438-8d3a-1e47ab0fab82",
   "metadata": {
    "pycharm": {
     "name": "#%%\n"
    }
   },
   "outputs": [],
   "source": [
    "import pandas as pd\n",
    "import numpy as np\n",
    "import matplotlib.pyplot as plt\n",
    "import seaborn as sns\n",
    "\n",
    "df = pd.read_csv('../Data/train.csv')"
   ]
  },
  {
   "cell_type": "code",
   "execution_count": 3,
   "id": "fd1a03ab-d8d2-4ec9-9308-8d38bbdbb092",
   "metadata": {
    "pycharm": {
     "name": "#%%\n"
    }
   },
   "outputs": [
    {
     "data": {
      "text/html": [
       "<div>\n",
       "<style scoped>\n",
       "    .dataframe tbody tr th:only-of-type {\n",
       "        vertical-align: middle;\n",
       "    }\n",
       "\n",
       "    .dataframe tbody tr th {\n",
       "        vertical-align: top;\n",
       "    }\n",
       "\n",
       "    .dataframe thead th {\n",
       "        text-align: right;\n",
       "    }\n",
       "</style>\n",
       "<table border=\"1\" class=\"dataframe\">\n",
       "  <thead>\n",
       "    <tr style=\"text-align: right;\">\n",
       "      <th></th>\n",
       "      <th>com_reg_ver_win_rate</th>\n",
       "      <th>ver_win_rate_x</th>\n",
       "      <th>ver_win_ratio_per_bu</th>\n",
       "      <th>lead_owner</th>\n",
       "      <th>is_converted</th>\n",
       "    </tr>\n",
       "  </thead>\n",
       "  <tbody>\n",
       "    <tr>\n",
       "      <th>0</th>\n",
       "      <td>0.066667</td>\n",
       "      <td>0.003079</td>\n",
       "      <td>0.026846</td>\n",
       "      <td>0</td>\n",
       "      <td>True</td>\n",
       "    </tr>\n",
       "    <tr>\n",
       "      <th>1</th>\n",
       "      <td>0.066667</td>\n",
       "      <td>0.003079</td>\n",
       "      <td>0.026846</td>\n",
       "      <td>1</td>\n",
       "      <td>True</td>\n",
       "    </tr>\n",
       "    <tr>\n",
       "      <th>2</th>\n",
       "      <td>0.088889</td>\n",
       "      <td>0.003079</td>\n",
       "      <td>0.026846</td>\n",
       "      <td>2</td>\n",
       "      <td>True</td>\n",
       "    </tr>\n",
       "    <tr>\n",
       "      <th>3</th>\n",
       "      <td>0.088889</td>\n",
       "      <td>0.003079</td>\n",
       "      <td>0.026846</td>\n",
       "      <td>3</td>\n",
       "      <td>True</td>\n",
       "    </tr>\n",
       "    <tr>\n",
       "      <th>4</th>\n",
       "      <td>0.088889</td>\n",
       "      <td>0.003079</td>\n",
       "      <td>0.026846</td>\n",
       "      <td>4</td>\n",
       "      <td>True</td>\n",
       "    </tr>\n",
       "  </tbody>\n",
       "</table>\n",
       "</div>"
      ],
      "text/plain": [
       "   com_reg_ver_win_rate  ver_win_rate_x  ver_win_ratio_per_bu  lead_owner  \\\n",
       "0              0.066667        0.003079              0.026846           0   \n",
       "1              0.066667        0.003079              0.026846           1   \n",
       "2              0.088889        0.003079              0.026846           2   \n",
       "3              0.088889        0.003079              0.026846           3   \n",
       "4              0.088889        0.003079              0.026846           4   \n",
       "\n",
       "   is_converted  \n",
       "0          True  \n",
       "1          True  \n",
       "2          True  \n",
       "3          True  \n",
       "4          True  "
      ]
     },
     "execution_count": 3,
     "metadata": {},
     "output_type": "execute_result"
    }
   ],
   "source": [
    "df = df.iloc[:,[3,23,24,27,-1]]\n",
    "df.head()"
   ]
  },
  {
   "cell_type": "code",
   "execution_count": 4,
   "id": "ef9b7b08-f8a6-485b-85fc-226810a9e35b",
   "metadata": {
    "pycharm": {
     "name": "#%%\n"
    }
   },
   "outputs": [
    {
     "data": {
      "text/html": [
       "<div>\n",
       "<style scoped>\n",
       "    .dataframe tbody tr th:only-of-type {\n",
       "        vertical-align: middle;\n",
       "    }\n",
       "\n",
       "    .dataframe tbody tr th {\n",
       "        vertical-align: top;\n",
       "    }\n",
       "\n",
       "    .dataframe thead th {\n",
       "        text-align: right;\n",
       "    }\n",
       "</style>\n",
       "<table border=\"1\" class=\"dataframe\">\n",
       "  <thead>\n",
       "    <tr style=\"text-align: right;\">\n",
       "      <th></th>\n",
       "      <th>lead_owner</th>\n",
       "      <th>is_converted</th>\n",
       "    </tr>\n",
       "  </thead>\n",
       "  <tbody>\n",
       "    <tr>\n",
       "      <th>0</th>\n",
       "      <td>278</td>\n",
       "      <td>False</td>\n",
       "    </tr>\n",
       "    <tr>\n",
       "      <th>1</th>\n",
       "      <td>437</td>\n",
       "      <td>True</td>\n",
       "    </tr>\n",
       "    <tr>\n",
       "      <th>2</th>\n",
       "      <td>874</td>\n",
       "      <td>False</td>\n",
       "    </tr>\n",
       "    <tr>\n",
       "      <th>3</th>\n",
       "      <td>194</td>\n",
       "      <td>False</td>\n",
       "    </tr>\n",
       "    <tr>\n",
       "      <th>4</th>\n",
       "      <td>167</td>\n",
       "      <td>False</td>\n",
       "    </tr>\n",
       "  </tbody>\n",
       "</table>\n",
       "</div>"
      ],
      "text/plain": [
       "   lead_owner  is_converted\n",
       "0         278         False\n",
       "1         437          True\n",
       "2         874         False\n",
       "3         194         False\n",
       "4         167         False"
      ]
     },
     "execution_count": 4,
     "metadata": {},
     "output_type": "execute_result"
    }
   ],
   "source": [
    "df_test = pd.read_csv('../Data/submission.csv')\n",
    "df_test = df_test.iloc[:,[-2,-1]]\n",
    "df_test.head()"
   ]
  },
  {
   "cell_type": "code",
   "execution_count": 5,
   "id": "a10c4e38-f3ce-4f79-98b4-83f466b7ce47",
   "metadata": {
    "pycharm": {
     "name": "#%%\n"
    }
   },
   "outputs": [
    {
     "name": "stdout",
     "output_type": "stream",
     "text": [
      "submission에만 있는 lead_owner id 개수 : 85\n",
      "[127, 135, 136, 308, 313, 315, 316, 320, 323, 327, 331, 336, 347, 353, 356, 373, 377, 379, 427, 554, 558, 562, 565, 571, 573, 576, 577, 581, 587, 588, 591, 595, 723, 727, 731, 733, 734, 735, 736, 747, 748, 749, 750, 751, 752, 766, 769, 772, 773, 777, 821, 828, 844, 850, 866, 867, 868, 874, 892, 907, 908, 911, 922, 960, 962, 963, 965, 966, 969, 978, 999, 1023, 1024, 1025, 1026, 1028, 1032, 1033, 1046, 1055, 1056, 1058, 1062, 1063, 1108]\n"
     ]
    }
   ],
   "source": [
    "new_owner = set(df_test['lead_owner']) - set(df['lead_owner'])\n",
    "print(f'submission에만 있는 lead_owner id 개수 : {len(new_owner)}')\n",
    "print(sorted(new_owner))"
   ]
  },
  {
   "cell_type": "code",
   "execution_count": 6,
   "id": "f6a61488-044b-4454-be41-77151e3091d9",
   "metadata": {
    "pycharm": {
     "name": "#%%\n"
    }
   },
   "outputs": [],
   "source": [
    "new_owner_df = df_test[df_test['lead_owner'].isin(new_owner)]"
   ]
  },
  {
   "cell_type": "code",
   "execution_count": 7,
   "id": "9b9c3f84-f134-4963-bb43-46189fb911eb",
   "metadata": {
    "pycharm": {
     "name": "#%%\n"
    }
   },
   "outputs": [
    {
     "data": {
      "text/plain": [
       "is_converted\n",
       "False    422\n",
       "True      24\n",
       "Name: count, dtype: int64"
      ]
     },
     "execution_count": 7,
     "metadata": {},
     "output_type": "execute_result"
    }
   ],
   "source": [
    "new_owner_df['is_converted'].value_counts()"
   ]
  },
  {
   "cell_type": "code",
   "execution_count": 8,
   "id": "b9ee4e69-4833-428d-bfd9-85804335bb6e",
   "metadata": {
    "pycharm": {
     "name": "#%%\n"
    }
   },
   "outputs": [
    {
     "data": {
      "text/plain": [
       "is_converted\n",
       "False    735\n",
       "True     249\n",
       "Name: count, dtype: int64"
      ]
     },
     "execution_count": 8,
     "metadata": {},
     "output_type": "execute_result"
    }
   ],
   "source": [
    "df = df.drop_duplicates(subset='lead_owner', keep='first')\n",
    "df['is_converted'].value_counts()"
   ]
  },
  {
   "cell_type": "raw",
   "id": "005f50db-0df4-49bc-bcf0-86eb059e51a4",
   "metadata": {
    "pycharm": {
     "name": "#%% raw\n"
    }
   },
   "source": [
    "'''\n",
    "lead_owner 변수는 submission에서 처음 등장하는 값이 85개 정도 존재.\n",
    "그런데 처음 등장한 영업 사원의 전환율이 좋지 않다. (X)\n",
    "따라서 train data에서 영업 횟수 대비 전환율이 좋은 id들을 추출하여 새로운 변수 만들어서 사용해보는 실험이 필요할 듯\n",
    "'''"
   ]
  },
  {
   "cell_type": "code",
   "execution_count": 8,
   "id": "09a96615-cbf8-4bdd-9863-21b67645c725",
   "metadata": {
    "pycharm": {
     "name": "#%%\n"
    }
   },
   "outputs": [],
   "source": [
    "df_cleaned = df.dropna()"
   ]
  },
  {
   "cell_type": "code",
   "execution_count": 9,
   "id": "e2a7a042-1b8c-449c-b563-e678207b17c9",
   "metadata": {
    "pycharm": {
     "name": "#%%\n"
    }
   },
   "outputs": [],
   "source": [
    "df_cleaned = df_cleaned.iloc[:,:-2]\n",
    "corr_matrix = df_cleaned.corr()"
   ]
  },
  {
   "cell_type": "code",
   "execution_count": 10,
   "id": "89704ed0-a746-47fc-a0b8-45e681fe4f16",
   "metadata": {
    "pycharm": {
     "name": "#%%\n"
    }
   },
   "outputs": [
    {
     "data": {
      "text/html": [
       "<div>\n",
       "<style scoped>\n",
       "    .dataframe tbody tr th:only-of-type {\n",
       "        vertical-align: middle;\n",
       "    }\n",
       "\n",
       "    .dataframe tbody tr th {\n",
       "        vertical-align: top;\n",
       "    }\n",
       "\n",
       "    .dataframe thead th {\n",
       "        text-align: right;\n",
       "    }\n",
       "</style>\n",
       "<table border=\"1\" class=\"dataframe\">\n",
       "  <thead>\n",
       "    <tr style=\"text-align: right;\">\n",
       "      <th></th>\n",
       "      <th>com_reg_ver_win_rate</th>\n",
       "      <th>ver_win_rate_x</th>\n",
       "      <th>ver_win_ratio_per_bu</th>\n",
       "    </tr>\n",
       "  </thead>\n",
       "  <tbody>\n",
       "    <tr>\n",
       "      <th>com_reg_ver_win_rate</th>\n",
       "      <td>1.000000</td>\n",
       "      <td>-0.084367</td>\n",
       "      <td>0.446932</td>\n",
       "    </tr>\n",
       "    <tr>\n",
       "      <th>ver_win_rate_x</th>\n",
       "      <td>-0.084367</td>\n",
       "      <td>1.000000</td>\n",
       "      <td>0.034621</td>\n",
       "    </tr>\n",
       "    <tr>\n",
       "      <th>ver_win_ratio_per_bu</th>\n",
       "      <td>0.446932</td>\n",
       "      <td>0.034621</td>\n",
       "      <td>1.000000</td>\n",
       "    </tr>\n",
       "  </tbody>\n",
       "</table>\n",
       "</div>"
      ],
      "text/plain": [
       "                      com_reg_ver_win_rate  ver_win_rate_x  \\\n",
       "com_reg_ver_win_rate              1.000000       -0.084367   \n",
       "ver_win_rate_x                   -0.084367        1.000000   \n",
       "ver_win_ratio_per_bu              0.446932        0.034621   \n",
       "\n",
       "                      ver_win_ratio_per_bu  \n",
       "com_reg_ver_win_rate              0.446932  \n",
       "ver_win_rate_x                    0.034621  \n",
       "ver_win_ratio_per_bu              1.000000  "
      ]
     },
     "execution_count": 10,
     "metadata": {},
     "output_type": "execute_result"
    }
   ],
   "source": [
    "corr_matrix"
   ]
  },
  {
   "cell_type": "code",
   "execution_count": 11,
   "id": "c67f13b0-5110-464c-8e0a-a7f37679ae1e",
   "metadata": {
    "pycharm": {
     "name": "#%%\n"
    }
   },
   "outputs": [
    {
     "data": {
      "image/png": "[encoded data removed]",
      "text/plain": [
       "<Figure size 800x600 with 2 Axes>"
      ]
     },
     "metadata": {},
     "output_type": "display_data"
    }
   ],
   "source": [
    "plt.figure(figsize=(8, 6))\n",
    "sns.heatmap(corr_matrix, annot=True, cmap='coolwarm', fmt=\".2f\", linewidths=0.5)\n",
    "plt.title('Correlation Heatmap')\n",
    "plt.show()"
   ]
  },
  {
   "cell_type": "code",
   "execution_count": null,
   "id": "fe7459cb-ee07-4ead-b0d4-66541b01b396",
   "metadata": {
    "pycharm": {
     "name": "#%%\n"
    }
   },
   "outputs": [],
   "source": []
  }
 ],
 "metadata": {
  "kernelspec": {
   "display_name": "Python 3 (ipykernel)",
   "language": "python",
   "name": "python3"
  },
  "language_info": {
   "codemirror_mode": {
    "name": "ipython",
    "version": 3
   },
   "file_extension": ".py",
   "mimetype": "text/x-python",
   "name": "python",
   "nbconvert_exporter": "python",
   "pygments_lexer": "ipython3",
   "version": "3.10.7"
  }
 },
 "nbformat": 4,
 "nbformat_minor": 5
}