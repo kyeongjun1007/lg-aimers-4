{
 "cells": [
  {
   "cell_type": "code",
   "execution_count": 1,
   "id": "fef1276d",
   "metadata": {
    "scrolled": true,
    "pycharm": {
     "name": "#%%\n"
    }
   },
   "outputs": [
    {
     "name": "stdout",
     "output_type": "stream",
     "text": [
      "Defaulting to user installation because normal site-packages is not writeable\n",
      "Requirement already satisfied: catboost in ./.local/lib/python3.10/site-packages (1.2.2)\n",
      "Requirement already satisfied: pandas>=0.24 in ./.local/lib/python3.10/site-packages (from catboost) (2.1.4)\n",
      "Requirement already satisfied: scipy in ./.local/lib/python3.10/site-packages (from catboost) (1.11.4)\n",
      "Requirement already satisfied: plotly in ./.local/lib/python3.10/site-packages (from catboost) (5.18.0)\n",
      "Requirement already satisfied: six in ./.local/lib/python3.10/site-packages (from catboost) (1.16.0)\n",
      "Requirement already satisfied: numpy>=1.16.0 in ./.local/lib/python3.10/site-packages (from catboost) (1.23.5)\n",
      "Requirement already satisfied: graphviz in ./.local/lib/python3.10/site-packages (from catboost) (0.20.1)\n",
      "Requirement already satisfied: matplotlib in ./.local/lib/python3.10/site-packages (from catboost) (3.8.2)\n",
      "Requirement already satisfied: python-dateutil>=2.8.2 in ./.local/lib/python3.10/site-packages (from pandas>=0.24->catboost) (2.8.2)\n",
      "Requirement already satisfied: tzdata>=2022.1 in ./.local/lib/python3.10/site-packages (from pandas>=0.24->catboost) (2023.4)\n",
      "Requirement already satisfied: pytz>=2020.1 in ./.local/lib/python3.10/site-packages (from pandas>=0.24->catboost) (2023.3.post1)\n",
      "Requirement already satisfied: fonttools>=4.22.0 in ./.local/lib/python3.10/site-packages (from matplotlib->catboost) (4.47.2)\n",
      "Requirement already satisfied: contourpy>=1.0.1 in ./.local/lib/python3.10/site-packages (from matplotlib->catboost) (1.2.0)\n",
      "Requirement already satisfied: pyparsing>=2.3.1 in ./.local/lib/python3.10/site-packages (from matplotlib->catboost) (3.1.1)\n",
      "Requirement already satisfied: kiwisolver>=1.3.1 in ./.local/lib/python3.10/site-packages (from matplotlib->catboost) (1.4.5)\n",
      "Requirement already satisfied: packaging>=20.0 in ./.local/lib/python3.10/site-packages (from matplotlib->catboost) (23.2)\n",
      "Requirement already satisfied: cycler>=0.10 in ./.local/lib/python3.10/site-packages (from matplotlib->catboost) (0.12.1)\n",
      "Requirement already satisfied: pillow>=8 in ./.local/lib/python3.10/site-packages (from matplotlib->catboost) (10.2.0)\n",
      "Requirement already satisfied: tenacity>=6.2.0 in ./.local/lib/python3.10/site-packages (from plotly->catboost) (8.2.3)\n",
      "\n",
      "\u001B[1m[\u001B[0m\u001B[34;49mnotice\u001B[0m\u001B[1;39;49m]\u001B[0m\u001B[39;49m A new release of pip is available: \u001B[0m\u001B[31;49m23.0.1\u001B[0m\u001B[39;49m -> \u001B[0m\u001B[32;49m23.3.2\u001B[0m\n",
      "\u001B[1m[\u001B[0m\u001B[34;49mnotice\u001B[0m\u001B[1;39;49m]\u001B[0m\u001B[39;49m To update, run: \u001B[0m\u001B[32;49mpip install --upgrade pip\u001B[0m\n"
     ]
    }
   ],
   "source": [
    "!pip install catboost"
   ]
  },
  {
   "cell_type": "code",
   "execution_count": 2,
   "id": "93e49c8b",
   "metadata": {
    "pycharm": {
     "name": "#%%\n"
    }
   },
   "outputs": [],
   "source": [
    "import random\n",
    "import numpy as np\n",
    "import pandas as pd\n",
    "\n",
    "from sklearn.model_selection import StratifiedKFold\n",
    "from sklearn.metrics import (\n",
    "    accuracy_score,\n",
    "    confusion_matrix,\n",
    "    f1_score,\n",
    "    precision_score,\n",
    "    recall_score,\n",
    "    precision_recall_curve\n",
    ")\n",
    "\n",
    "from catboost import CatBoostClassifier"
   ]
  },
  {
   "cell_type": "code",
   "execution_count": 3,
   "id": "4781d17a",
   "metadata": {
    "pycharm": {
     "name": "#%%\n"
    }
   },
   "outputs": [],
   "source": [
    "def fix_seed(seed=42):\n",
    "    # Fixing the seed for the Python random module\n",
    "    random.seed(seed)\n",
    "    \n",
    "    # Fixing the seed for NumPy\n",
    "    np.random.seed(seed)\n",
    "    \n",
    "    \n",
    "def get_clf_eval(y_test, y_pred=None, fold_no=None):\n",
    "    confusion = confusion_matrix(y_test, y_pred, labels=[True, False])\n",
    "    accuracy = accuracy_score(y_test, y_pred)\n",
    "    precision = precision_score(y_test, y_pred, labels=[True, False])\n",
    "    recall = recall_score(y_test, y_pred)\n",
    "    F1 = f1_score(y_test, y_pred, labels=[True, False])\n",
    "    \n",
    "    fold_info = f'Fold #{fold_no}' if fold_no is not None else ''\n",
    "    print(f'{fold_info} ACC: {accuracy:.4f}, PRE: {precision:.4f}, REC: {recall:.4f}, F1: {F1:.4f}\\n')\n",
    "    return F1\n",
    "\n",
    "def new_business_area(cur_area):\n",
    "    if cur_area in ['corporate / office', 'government department']:\n",
    "        return 'Office'\n",
    "    elif cur_area in ['education', 'public facility']:\n",
    "        return 'Public'\n",
    "    elif cur_area in ['hotel & accommodation', 'residential (home)']:\n",
    "        return 'Amenity'\n",
    "    elif cur_area in ['factory', 'power plant / renewable energy', 'transportation']:\n",
    "        return 'Industry'\n",
    "    else:\n",
    "        return cur_area\n",
    "    \n",
    "def feature_engineering(df_input):\n",
    "    df = df_input.copy()\n",
    "\n",
    "    df['business_unit'] = np.where(df['business_unit'].isin(['Solution', 'CM']), 'Others', df['business_unit'])\n",
    "    \n",
    "    df['business_area_group'] = df['business_area'].map(new_business_area)\n",
    "    \n",
    "    return df\n",
    "\n",
    "def filling_missing_values(df_input, base_cat_features, base_num_features):\n",
    "    df = df_input.copy()\n",
    "    \n",
    "    for base_cat_feat in base_cat_features:\n",
    "        df[base_cat_feat] = df[base_cat_feat].fillna('UNK')\n",
    "        df[base_cat_feat] = df[base_cat_feat].astype(str)\n",
    "\n",
    "    for base_num_feat in base_num_features:\n",
    "        df[base_num_feat] = df[base_num_feat].fillna(-1)\n",
    "        \n",
    "    return df"
   ]
  },
  {
   "cell_type": "code",
   "execution_count": 4,
   "id": "11cbbc8c",
   "metadata": {
    "pycharm": {
     "name": "#%%\n"
    }
   },
   "outputs": [],
   "source": [
    "config = {\n",
    "    'train_path': 'train.csv'\n",
    "    ,'submit_path': 'original_submission.csv'\n",
    "    ,'seed':42\n",
    "    ,'k_fold': 5\n",
    "}"
   ]
  },
  {
   "cell_type": "code",
   "execution_count": 5,
   "id": "aeca6a37",
   "metadata": {
    "pycharm": {
     "name": "#%%\n"
    }
   },
   "outputs": [],
   "source": [
    "fix_seed(config['seed'])"
   ]
  },
  {
   "cell_type": "code",
   "execution_count": 6,
   "id": "4b084821",
   "metadata": {
    "pycharm": {
     "name": "#%%\n"
    }
   },
   "outputs": [
    {
     "data": {
      "text/plain": [
       "3519"
      ]
     },
     "execution_count": 6,
     "metadata": {},
     "output_type": "execute_result"
    }
   ],
   "source": [
    "df = pd.read_csv(config['train_path'])\n",
    "df.duplicated().sum()"
   ]
  },
  {
   "cell_type": "code",
   "execution_count": 7,
   "id": "7675f03b",
   "metadata": {
    "pycharm": {
     "name": "#%%\n"
    }
   },
   "outputs": [
    {
     "data": {
      "text/plain": [
       "(55780, 29)"
      ]
     },
     "execution_count": 7,
     "metadata": {},
     "output_type": "execute_result"
    }
   ],
   "source": [
    "df = df.drop_duplicates(keep='first')\n",
    "df.shape"
   ]
  },
  {
   "cell_type": "code",
   "execution_count": 8,
   "id": "2ea44bf3",
   "metadata": {
    "pycharm": {
     "name": "#%%\n"
    }
   },
   "outputs": [],
   "source": [
    "df = feature_engineering(df)"
   ]
  },
  {
   "cell_type": "code",
   "execution_count": 9,
   "id": "688a4c56",
   "metadata": {
    "pycharm": {
     "name": "#%%\n"
    }
   },
   "outputs": [
    {
     "name": "stdout",
     "output_type": "stream",
     "text": [
      "bant_submit, 0.000(%), [float64]\n",
      "customer_country, 1.746(%), [object]\n",
      "business_unit, 0.000(%), [object]\n",
      "com_reg_ver_win_rate, 74.697(%), [float64]\n",
      "customer_idx, 0.000(%), [int64]\n",
      "customer_type, 74.145(%), [object]\n",
      "enterprise, 0.000(%), [object]\n",
      "historical_existing_cnt, 77.824(%), [float64]\n",
      "id_strategic_ver, 94.014(%), [object]\n",
      "it_strategic_ver, 98.014(%), [object]\n",
      "idit_strategic_ver, 92.028(%), [object]\n",
      "customer_job, 30.125(%), [object]\n",
      "lead_desc_length, 0.000(%), [int64]\n",
      "inquiry_type, 1.597(%), [object]\n",
      "product_category, 30.789(%), [object]\n",
      "product_subcategory, 83.854(%), [object]\n",
      "product_modelname, 83.810(%), [object]\n",
      "customer_country.1, 1.746(%), [object]\n",
      "customer_position, 0.000(%), [object]\n",
      "response_corporate, 0.000(%), [object]\n",
      "expected_timeline, 50.721(%), [object]\n",
      "ver_cus, 0.000(%), [int64]\n",
      "ver_pro, 0.000(%), [int64]\n",
      "ver_win_rate_x, 68.112(%), [float64]\n",
      "ver_win_ratio_per_bu, 73.317(%), [float64]\n",
      "business_area, 68.112(%), [object]\n",
      "business_subarea, 90.714(%), [object]\n",
      "lead_owner, 0.000(%), [int64]\n",
      "business_area_group, 68.112(%), [object]\n"
     ]
    }
   ],
   "source": [
    "base_features = []\n",
    "base_num_features = []\n",
    "base_cat_features = []\n",
    "target = 'is_converted'\n",
    "\n",
    "total_rows = len(df)\n",
    "for feat in df.columns:\n",
    "    if feat == 'is_converted':\n",
    "        continue\n",
    "        \n",
    "    # Count the number of missing values in the column\n",
    "    missing_count = df[feat].isna().sum()\n",
    "    \n",
    "    # Calculate the percentage of missing values\n",
    "    missing_rate = (missing_count / total_rows) * 100\n",
    "    \n",
    "    \n",
    "    base_features.append(feat)\n",
    "\n",
    "    # Get the data type of the column\n",
    "    if feat in ['id_strategic_ver', 'it_strategic_ver', 'idit_strategic_ver']:\n",
    "        df[feat] = df[feat].astype(object)\n",
    "    print(f'{feat}, {missing_rate:.3f}(%), [{df[feat].dtype}]')\n",
    "    \n",
    "    if df[feat].dtype == 'object':\n",
    "        base_cat_features.append(feat)\n",
    "    else:\n",
    "        base_num_features.append(feat)"
   ]
  },
  {
   "cell_type": "code",
   "execution_count": 10,
   "id": "369706b6",
   "metadata": {
    "pycharm": {
     "name": "#%%\n"
    }
   },
   "outputs": [
    {
     "name": "stdout",
     "output_type": "stream",
     "text": [
      "['com_reg_ver_win_rate', 'customer_idx', 'historical_existing_cnt', 'lead_desc_length', 'lead_owner']\n",
      "['business_unit', 'customer_type', 'customer_job', 'inquiry_type', 'product_category', 'customer_country.1', 'customer_position', 'response_corporate', 'expected_timeline', 'business_area_group']\n",
      "['business_unit', 'com_reg_ver_win_rate', 'customer_idx', 'customer_type', 'historical_existing_cnt', 'customer_job', 'lead_desc_length', 'inquiry_type', 'product_category', 'customer_country.1', 'customer_position', 'response_corporate', 'expected_timeline', 'lead_owner', 'business_area_group']\n"
     ]
    }
   ],
   "source": [
    "# customer_country == customer_country.1\n",
    "\n",
    "removal_features = set([\n",
    "    'customer_country', 'id_strategic_ver', 'it_strategic_ver', 'idit_strategic_ver',\n",
    "    'business_area', 'business_subarea',\n",
    "    'ver_cus', 'ver_pro', 'bant_submit', 'ver_win_ratio_per_bu', 'product_modelname',\n",
    "    'product_subcategory', 'enterprise', 'ver_win_rate_x'\n",
    "])\n",
    "\n",
    "        \n",
    "base_num_features = [i for i in base_num_features if i not in removal_features]\n",
    "base_cat_features = [i for i in base_cat_features if i not in removal_features]\n",
    "base_features = [i for i in base_features if i not in removal_features]\n",
    "\n",
    "print(base_num_features)\n",
    "print(base_cat_features)\n",
    "print(base_features)"
   ]
  },
  {
   "cell_type": "code",
   "execution_count": 11,
   "id": "f0ebc618",
   "metadata": {
    "pycharm": {
     "name": "#%%\n"
    }
   },
   "outputs": [],
   "source": [
    "df = filling_missing_values(df, base_cat_features, base_num_features)"
   ]
  },
  {
   "cell_type": "code",
   "execution_count": 18,
   "id": "03a1c449",
   "metadata": {
    "pycharm": {
     "name": "#%%\n"
    }
   },
   "outputs": [
    {
     "name": "stdout",
     "output_type": "stream",
     "text": [
      "Fold #1\n",
      "0:\tlearn: 0.6459792\ttest: 0.6459291\tbest: 0.6459291 (0)\ttotal: 95.3ms\tremaining: 4m 45s\n",
      "100:\tlearn: 0.2031152\ttest: 0.2060926\tbest: 0.2060926 (100)\ttotal: 5.36s\tremaining: 2m 33s\n",
      "200:\tlearn: 0.1753576\ttest: 0.1835409\tbest: 0.1835409 (200)\ttotal: 9.32s\tremaining: 2m 9s\n",
      "300:\tlearn: 0.1464599\ttest: 0.1652782\tbest: 0.1652782 (300)\ttotal: 13.6s\tremaining: 2m 2s\n",
      "400:\tlearn: 0.1312784\ttest: 0.1581168\tbest: 0.1581111 (399)\ttotal: 17.8s\tremaining: 1m 55s\n",
      "500:\tlearn: 0.1188149\ttest: 0.1533148\tbest: 0.1532870 (499)\ttotal: 22.1s\tremaining: 1m 50s\n",
      "600:\tlearn: 0.1094384\ttest: 0.1523595\tbest: 0.1523554 (598)\ttotal: 26.4s\tremaining: 1m 45s\n",
      "700:\tlearn: 0.1010921\ttest: 0.1517707\tbest: 0.1512395 (651)\ttotal: 30.8s\tremaining: 1m 40s\n",
      "Stopped by overfitting detector  (50 iterations wait)\n",
      "\n",
      "bestTest = 0.1512394553\n",
      "bestIteration = 651\n",
      "\n",
      "Shrink model to first 652 iterations.\n",
      "[Train] Fold #1 ACC: 0.9604, PRE: 0.6796, REC: 0.9878, F1: 0.8052\n",
      "\n",
      "[Valid] Fold #1 ACC: 0.9460, PRE: 0.6155, REC: 0.9286, F1: 0.7403\n",
      "\n",
      "Fold #2\n",
      "0:\tlearn: 0.6396218\ttest: 0.6402326\tbest: 0.6402326 (0)\ttotal: 80.6ms\tremaining: 4m 1s\n",
      "100:\tlearn: 0.2068814\ttest: 0.2125016\tbest: 0.2125016 (100)\ttotal: 4.19s\tremaining: 2m\n",
      "200:\tlearn: 0.1730998\ttest: 0.1853144\tbest: 0.1853144 (200)\ttotal: 8.31s\tremaining: 1m 55s\n",
      "300:\tlearn: 0.1466074\ttest: 0.1695750\tbest: 0.1695750 (300)\ttotal: 12.6s\tremaining: 1m 52s\n",
      "400:\tlearn: 0.1301908\ttest: 0.1617680\tbest: 0.1617258 (398)\ttotal: 16.9s\tremaining: 1m 49s\n",
      "500:\tlearn: 0.1180176\ttest: 0.1580525\tbest: 0.1576310 (496)\ttotal: 21.2s\tremaining: 1m 45s\n",
      "600:\tlearn: 0.1082580\ttest: 0.1553060\tbest: 0.1552904 (599)\ttotal: 25.5s\tremaining: 1m 41s\n",
      "700:\tlearn: 0.1005504\ttest: 0.1546954\tbest: 0.1545040 (684)\ttotal: 29.8s\tremaining: 1m 37s\n",
      "Stopped by overfitting detector  (50 iterations wait)\n",
      "\n",
      "bestTest = 0.1545040153\n",
      "bestIteration = 684\n",
      "\n",
      "Shrink model to first 685 iterations.\n",
      "[Train] Fold #2 ACC: 0.9648, PRE: 0.7051, REC: 0.9878, F1: 0.8229\n",
      "\n",
      "[Valid] Fold #2 ACC: 0.9473, PRE: 0.6214, REC: 0.9307, F1: 0.7452\n",
      "\n",
      "Fold #3\n",
      "0:\tlearn: 0.6465090\ttest: 0.6478034\tbest: 0.6478034 (0)\ttotal: 75.3ms\tremaining: 3m 45s\n",
      "100:\tlearn: 0.2054799\ttest: 0.2180801\tbest: 0.2180801 (100)\ttotal: 4.22s\tremaining: 2m 1s\n",
      "200:\tlearn: 0.1730642\ttest: 0.1955306\tbest: 0.1955306 (200)\ttotal: 8.35s\tremaining: 1m 56s\n",
      "300:\tlearn: 0.1440189\ttest: 0.1779134\tbest: 0.1778407 (299)\ttotal: 12.5s\tremaining: 1m 52s\n",
      "400:\tlearn: 0.1286916\ttest: 0.1712297\tbest: 0.1710921 (397)\ttotal: 16.7s\tremaining: 1m 48s\n",
      "500:\tlearn: 0.1173386\ttest: 0.1682417\tbest: 0.1681119 (496)\ttotal: 21s\tremaining: 1m 44s\n",
      "600:\tlearn: 0.1082628\ttest: 0.1663224\tbest: 0.1663183 (599)\ttotal: 25.4s\tremaining: 1m 41s\n",
      "Stopped by overfitting detector  (50 iterations wait)\n",
      "\n",
      "bestTest = 0.166264466\n",
      "bestIteration = 636\n",
      "\n",
      "Shrink model to first 637 iterations.\n",
      "[Train] Fold #3 ACC: 0.9616, PRE: 0.6869, REC: 0.9851, F1: 0.8094\n",
      "\n",
      "[Valid] Fold #3 ACC: 0.9458, PRE: 0.6152, REC: 0.9221, F1: 0.7380\n",
      "\n",
      "Fold #4\n",
      "0:\tlearn: 0.6488255\ttest: 0.6479979\tbest: 0.6479979 (0)\ttotal: 80.7ms\tremaining: 4m 1s\n",
      "100:\tlearn: 0.2065203\ttest: 0.2017133\tbest: 0.2017133 (100)\ttotal: 4.28s\tremaining: 2m 2s\n",
      "200:\tlearn: 0.1726985\ttest: 0.1775471\tbest: 0.1775471 (200)\ttotal: 8.28s\tremaining: 1m 55s\n",
      "300:\tlearn: 0.1462644\ttest: 0.1600582\tbest: 0.1600582 (300)\ttotal: 12.5s\tremaining: 1m 52s\n",
      "400:\tlearn: 0.1290044\ttest: 0.1514386\tbest: 0.1514386 (400)\ttotal: 16.8s\tremaining: 1m 48s\n",
      "500:\tlearn: 0.1168789\ttest: 0.1489245\tbest: 0.1488129 (495)\ttotal: 21.1s\tremaining: 1m 45s\n",
      "600:\tlearn: 0.1086241\ttest: 0.1481920\tbest: 0.1476849 (584)\ttotal: 25.4s\tremaining: 1m 41s\n",
      "Stopped by overfitting detector  (50 iterations wait)\n",
      "\n",
      "bestTest = 0.1476848813\n",
      "bestIteration = 584\n",
      "\n",
      "Shrink model to first 585 iterations.\n",
      "[Train] Fold #4 ACC: 0.9626, PRE: 0.6926, REC: 0.9857, F1: 0.8135\n",
      "\n",
      "[Valid] Fold #4 ACC: 0.9435, PRE: 0.6014, REC: 0.9437, F1: 0.7346\n",
      "\n",
      "Fold #5\n",
      "0:\tlearn: 0.6404976\ttest: 0.6396476\tbest: 0.6396476 (0)\ttotal: 75.2ms\tremaining: 3m 45s\n",
      "100:\tlearn: 0.2079299\ttest: 0.2071453\tbest: 0.2071453 (100)\ttotal: 4.25s\tremaining: 2m 1s\n",
      "200:\tlearn: 0.1762495\ttest: 0.1837221\tbest: 0.1837221 (200)\ttotal: 8.28s\tremaining: 1m 55s\n",
      "300:\tlearn: 0.1469500\ttest: 0.1623868\tbest: 0.1623868 (300)\ttotal: 12.5s\tremaining: 1m 51s\n",
      "400:\tlearn: 0.1310788\ttest: 0.1542868\tbest: 0.1542868 (400)\ttotal: 16.7s\tremaining: 1m 48s\n",
      "500:\tlearn: 0.1184761\ttest: 0.1490867\tbest: 0.1490565 (498)\ttotal: 21s\tremaining: 1m 44s\n",
      "600:\tlearn: 0.1088737\ttest: 0.1467182\tbest: 0.1464767 (590)\ttotal: 25.3s\tremaining: 1m 41s\n",
      "Stopped by overfitting detector  (50 iterations wait)\n",
      "\n",
      "bestTest = 0.1464766769\n",
      "bestIteration = 590\n",
      "\n",
      "Shrink model to first 591 iterations.\n",
      "[Train] Fold #5 ACC: 0.9675, PRE: 0.7221, REC: 0.9873, F1: 0.8342\n",
      "\n",
      "[Valid] Fold #5 ACC: 0.9495, PRE: 0.6320, REC: 0.9351, F1: 0.7543\n",
      "\n",
      "Avg. F1 of validset: 0.7424780048522956\n"
     ]
    }
   ],
   "source": [
    "cbt_params = {\n",
    "    'random_seed': config['seed']\n",
    "    ,'learning_rate': 0.05\n",
    "    ,'n_estimators': 3000\n",
    "    \n",
    "    ,'early_stopping_rounds': 50\n",
    "    ,'verbose': 100\n",
    "    ,'auto_class_weights': 'Balanced' #'SqrtBalanced', 'Balanced'\n",
    "    \n",
    "    # regularizations\n",
    "    ,'max_depth': 6\n",
    "    ,'l2_leaf_reg': 1\n",
    "    ,'min_data_in_leaf': 2\n",
    "    ,'subsample': 0.5\n",
    "    #,'grow_policy': 'Depthwise' # 'SymmetricTree'(default)\n",
    "}\n",
    "\n",
    "skf = StratifiedKFold(n_splits=config['k_fold'], shuffle=True, random_state=config['seed'])\n",
    "cbt_models = []\n",
    "f1_scores = []\n",
    "\n",
    "for k_fold, (train_idx, valid_idx) in enumerate(skf.split(df[base_features], df[target])):\n",
    "    print(f'Fold #{k_fold+1}')\n",
    "    X_train, y_train = df[base_features].iloc[train_idx], df[target].iloc[train_idx].astype(int)\n",
    "    X_valid, y_valid = df[base_features].iloc[valid_idx], df[target].iloc[valid_idx].astype(int)\n",
    "\n",
    "    cbt = CatBoostClassifier(**cbt_params)\n",
    "\n",
    "    cbt.fit(\n",
    "        X_train, y_train,\n",
    "        eval_set = [(X_valid, y_valid)],\n",
    "        cat_features=base_cat_features,\n",
    "    )\n",
    "\n",
    "    cbt_models.append(cbt)\n",
    "\n",
    "    # train-set\n",
    "    print('[Train] ', end='')\n",
    "    y_pred = cbt.predict(X_train)\n",
    "    _ = get_clf_eval(y_train, y_pred, k_fold+1)\n",
    "    \n",
    "    # valid-set\n",
    "    print('[Valid] ', end='')\n",
    "    y_pred = cbt.predict(X_valid)\n",
    "    y_pred = y_pred.astype(y_valid.dtype)\n",
    "    f1 = get_clf_eval(y_valid, y_pred, k_fold+1)\n",
    "\n",
    "    f1_scores.append(f1)\n",
    "\n",
    "print(f'Avg. F1 of validset: {np.mean(f1_scores)}')"
   ]
  },
  {
   "cell_type": "code",
   "execution_count": 13,
   "id": "fd1d3386",
   "metadata": {
    "pycharm": {
     "name": "#%%\n"
    }
   },
   "outputs": [
    {
     "name": "stdout",
     "output_type": "stream",
     "text": [
      "                 Feature Id  avg.importance\n",
      "0              customer_idx       27.319018\n",
      "1                lead_owner       18.987136\n",
      "2        response_corporate        9.252858\n",
      "3             customer_type        8.777788\n",
      "4          lead_desc_length        5.466157\n",
      "5          product_category        5.187749\n",
      "6             business_unit        4.426346\n",
      "7              inquiry_type        4.376118\n",
      "8      com_reg_ver_win_rate        2.961865\n",
      "9       business_area_group        2.879332\n",
      "10             customer_job        2.757379\n",
      "11       customer_country.1        2.430351\n",
      "12  historical_existing_cnt        2.161900\n",
      "13        customer_position        1.629770\n",
      "14        expected_timeline        1.386234\n"
     ]
    },
    {
     "data": {
      "text/html": [
       "<div>\n",
       "<style scoped>\n",
       "    .dataframe tbody tr th:only-of-type {\n",
       "        vertical-align: middle;\n",
       "    }\n",
       "\n",
       "    .dataframe tbody tr th {\n",
       "        vertical-align: top;\n",
       "    }\n",
       "\n",
       "    .dataframe thead th {\n",
       "        text-align: right;\n",
       "    }\n",
       "</style>\n",
       "<table border=\"1\" class=\"dataframe\">\n",
       "  <thead>\n",
       "    <tr style=\"text-align: right;\">\n",
       "      <th></th>\n",
       "      <th>Feature Id</th>\n",
       "      <th>avg.importance</th>\n",
       "    </tr>\n",
       "  </thead>\n",
       "  <tbody>\n",
       "    <tr>\n",
       "      <th>0</th>\n",
       "      <td>customer_idx</td>\n",
       "      <td>27.319018</td>\n",
       "    </tr>\n",
       "    <tr>\n",
       "      <th>1</th>\n",
       "      <td>lead_owner</td>\n",
       "      <td>18.987136</td>\n",
       "    </tr>\n",
       "    <tr>\n",
       "      <th>2</th>\n",
       "      <td>response_corporate</td>\n",
       "      <td>9.252858</td>\n",
       "    </tr>\n",
       "    <tr>\n",
       "      <th>3</th>\n",
       "      <td>customer_type</td>\n",
       "      <td>8.777788</td>\n",
       "    </tr>\n",
       "    <tr>\n",
       "      <th>4</th>\n",
       "      <td>lead_desc_length</td>\n",
       "      <td>5.466157</td>\n",
       "    </tr>\n",
       "    <tr>\n",
       "      <th>5</th>\n",
       "      <td>product_category</td>\n",
       "      <td>5.187749</td>\n",
       "    </tr>\n",
       "    <tr>\n",
       "      <th>6</th>\n",
       "      <td>business_unit</td>\n",
       "      <td>4.426346</td>\n",
       "    </tr>\n",
       "    <tr>\n",
       "      <th>7</th>\n",
       "      <td>inquiry_type</td>\n",
       "      <td>4.376118</td>\n",
       "    </tr>\n",
       "    <tr>\n",
       "      <th>8</th>\n",
       "      <td>com_reg_ver_win_rate</td>\n",
       "      <td>2.961865</td>\n",
       "    </tr>\n",
       "    <tr>\n",
       "      <th>9</th>\n",
       "      <td>business_area_group</td>\n",
       "      <td>2.879332</td>\n",
       "    </tr>\n",
       "    <tr>\n",
       "      <th>10</th>\n",
       "      <td>customer_job</td>\n",
       "      <td>2.757379</td>\n",
       "    </tr>\n",
       "    <tr>\n",
       "      <th>11</th>\n",
       "      <td>customer_country.1</td>\n",
       "      <td>2.430351</td>\n",
       "    </tr>\n",
       "    <tr>\n",
       "      <th>12</th>\n",
       "      <td>historical_existing_cnt</td>\n",
       "      <td>2.161900</td>\n",
       "    </tr>\n",
       "    <tr>\n",
       "      <th>13</th>\n",
       "      <td>customer_position</td>\n",
       "      <td>1.629770</td>\n",
       "    </tr>\n",
       "    <tr>\n",
       "      <th>14</th>\n",
       "      <td>expected_timeline</td>\n",
       "      <td>1.386234</td>\n",
       "    </tr>\n",
       "  </tbody>\n",
       "</table>\n",
       "</div>"
      ],
      "text/plain": [
       "                 Feature Id  avg.importance\n",
       "0              customer_idx       27.319018\n",
       "1                lead_owner       18.987136\n",
       "2        response_corporate        9.252858\n",
       "3             customer_type        8.777788\n",
       "4          lead_desc_length        5.466157\n",
       "5          product_category        5.187749\n",
       "6             business_unit        4.426346\n",
       "7              inquiry_type        4.376118\n",
       "8      com_reg_ver_win_rate        2.961865\n",
       "9       business_area_group        2.879332\n",
       "10             customer_job        2.757379\n",
       "11       customer_country.1        2.430351\n",
       "12  historical_existing_cnt        2.161900\n",
       "13        customer_position        1.629770\n",
       "14        expected_timeline        1.386234"
      ]
     },
     "execution_count": 13,
     "metadata": {},
     "output_type": "execute_result"
    }
   ],
   "source": [
    "df_fi_list = []\n",
    "for cbt_model in cbt_models:\n",
    "    df_fi = cbt_model.get_feature_importance(prettified=True)\n",
    "    df_fi_list.append(df_fi)\n",
    "\n",
    "df_fi_all = pd.concat(df_fi_list)\n",
    "df_avg_importance = df_fi_all.groupby('Feature Id')['Importances'].mean().reset_index()\n",
    "\n",
    "# Rename 'importance' column to 'avg.importance'\n",
    "df_avg_importance.rename(columns={'Importances': 'avg.importance'}, inplace=True)\n",
    "\n",
    "# Optionally, sort the DataFrame by 'feature id' or 'avg.importance'\n",
    "df_avg_importance.sort_values(by='avg.importance', inplace=True, ascending=False, ignore_index=True)\n",
    "\n",
    "print(df_avg_importance)\n",
    "df_avg_importance"
   ]
  },
  {
   "cell_type": "code",
   "execution_count": 14,
   "id": "928089f5",
   "metadata": {
    "pycharm": {
     "name": "#%%\n"
    }
   },
   "outputs": [
    {
     "data": {
      "text/plain": [
       "0.29804591159172833"
      ]
     },
     "execution_count": 14,
     "metadata": {},
     "output_type": "execute_result"
    }
   ],
   "source": [
    "df_test = pd.read_csv(config['submit_path'])\n",
    "\n",
    "df_test = feature_engineering(df_test)\n",
    "df_test = filling_missing_values(df_test, base_cat_features, base_num_features)\n",
    "X_test = df_test[base_features]\n",
    "\n",
    "y_probs = np.zeros((X_test.shape[0], 2))\n",
    "for cbt_model in cbt_models:\n",
    "    y_probs += cbt_model.predict_proba(X_test) / len(cbt_models)\n",
    "\n",
    "(y_probs[:, 1] >= 0.5).sum() / len(y_probs)"
   ]
  },
  {
   "cell_type": "code",
   "execution_count": 15,
   "id": "9e0cc6cd",
   "metadata": {
    "pycharm": {
     "name": "#%%\n"
    }
   },
   "outputs": [],
   "source": [
    "df_test[target] = (y_probs[:, 1] >= 0.5).astype(bool)\n",
    "df_test.to_csv(f'submission.csv', index=True)\n"
   ]
  },
  {
   "cell_type": "code",
   "execution_count": 16,
   "id": "0780fc71",
   "metadata": {
    "pycharm": {
     "name": "#%%\n"
    }
   },
   "outputs": [],
   "source": [
    "df_test.to_csv(f'results/submission_0205_2212.csv', index=True)"
   ]
  },
  {
   "cell_type": "code",
   "execution_count": null,
   "id": "f8bf6f67",
   "metadata": {
    "pycharm": {
     "name": "#%%\n"
    }
   },
   "outputs": [],
   "source": []
  }
 ],
 "metadata": {
  "kernelspec": {
   "display_name": "Python 3 (ipykernel)",
   "language": "python",
   "name": "python3"
  },
  "language_info": {
   "codemirror_mode": {
    "name": "ipython",
    "version": 3
   },
   "file_extension": ".py",
   "mimetype": "text/x-python",
   "name": "python",
   "nbconvert_exporter": "python",
   "pygments_lexer": "ipython3",
   "version": "3.10.13"
  }
 },
 "nbformat": 4,
 "nbformat_minor": 5
}