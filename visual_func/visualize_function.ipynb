{
 "cells": [
  {
   "cell_type": "code",
   "execution_count": null,
   "outputs": [],
   "source": [
    "from google.colab import drive\n",
    "drive.mount('/content/drive')"
   ],
   "metadata": {
    "collapsed": false,
    "pycharm": {
     "name": "#%%\n"
    }
   }
  },
  {
   "cell_type": "code",
   "execution_count": null,
   "outputs": [],
   "source": [
    "feature_list = ['bant_submit', 'customer_country', 'business_unit','com_reg_ver_win_rate', 'customer_idx','customer_type', 'enterprise', 'historical_existing_cnt',\t'id_strategic_ver',\t'it_strategic_ver',\t'idit_strategic_ver', 'customer_job', 'lead_desc_length', 'inquiry_type', 'product_category', 'product_subcategory',\t'product_modelname', 'customer_country.1', 'customer_position', 'response_corporate', 'expected_timeline', 'ver_cus', 'ver_pro',\t'ver_win_rate_x', 'ver_win_ratio_per_bu', 'business_area', 'business_subarea', 'lead_owner']"
   ],
   "metadata": {
    "collapsed": false,
    "pycharm": {
     "name": "#%%\n"
    }
   }
  },
  {
   "cell_type": "code",
   "execution_count": null,
   "outputs": [],
   "source": [
    "!pip install missingno"
   ],
   "metadata": {
    "collapsed": false,
    "pycharm": {
     "name": "#%%\n"
    }
   }
  },
  {
   "cell_type": "code",
   "execution_count": null,
   "outputs": [],
   "source": [
    "import pandas as pd\n",
    "import seaborn as sns\n",
    "import matplotlib.pyplot as plt\n",
    "import missingno as msno\n",
    "from wordcloud import WordCloud"
   ],
   "metadata": {
    "collapsed": false,
    "pycharm": {
     "name": "#%%\n"
    }
   }
  },
  {
   "cell_type": "code",
   "execution_count": null,
   "outputs": [],
   "source": [
    "df_train = pd.read_csv('/content/drive/MyDrive/LGAimers/Data/train.csv')\n",
    "df_test = pd.read_csv('/content/drive/MyDrive/LGAimers/Data/submission.csv')"
   ],
   "metadata": {
    "collapsed": false,
    "pycharm": {
     "name": "#%%\n"
    }
   }
  },
  {
   "cell_type": "code",
   "execution_count": null,
   "outputs": [],
   "source": [
    "# 각 feature 내의 True vs False 비율 파이차트 그리기\n",
    "\n",
    "def pie_value_ratios(df, column_name):\n",
    "    if column_name == 'is_converted':\n",
    "        # Calculate the ratio of values in the 'is_converted' column\n",
    "        value_ratios = df[column_name].value_counts(normalize=True)\n",
    "\n",
    "        # Print the ratios\n",
    "        print(f\"Ratios of values in {column_name}:\")\n",
    "        print(value_ratios * 100)  # Convert to percentages for display\n",
    "\n",
    "    else:\n",
    "        # Filter rows where the specified column is not null\n",
    "        filtered_df = df[df[column_name].notnull()]\n",
    "\n",
    "        # Calculate the ratio of values in the 'is_converted' column for the filtered rows\n",
    "        value_ratios = filtered_df['is_converted'].value_counts(normalize=True)\n",
    "\n",
    "        # Print the ratios for the filtered data\n",
    "        print(f\"Ratios of 'is_converted' values where {column_name} is not null:\")\n",
    "        print(value_ratios * 100)  # Convert to percentages for display\n",
    "\n",
    "    # Define colors for the pie chart\n",
    "    colors = ['#ea9999', '#7f7f7f']\n",
    "\n",
    "    # Plot the ratios as a pie chart\n",
    "    plt.figure(figsize=(8, 8))\n",
    "    value_ratios.plot.pie(autopct='%.1f%%', startangle=90, colors=colors, textprops={'fontsize': 15})\n",
    "    plt.title(f\"Ratios of values in {column_name} (Train data)\", fontsize=17)\n",
    "    plt.ylabel('')  # Pie chart does not need a y-label\n",
    "\n",
    "    plt.tight_layout()\n",
    "    plt.show()\n",
    "\n",
    "\n",
    "pie_value_ratios(df_train, 'is_converted')"
   ],
   "metadata": {
    "collapsed": false,
    "pycharm": {
     "name": "#%%\n"
    }
   }
  },
  {
   "cell_type": "code",
   "execution_count": null,
   "outputs": [],
   "source": [
    "# 각 feature 내의 class 분포 막대그래프\n",
    "\n",
    "def bar_value_ratios(df, column_name):\n",
    "    # Calculate the ratio of values in the specified column\n",
    "    value_ratios = df[column_name].value_counts(normalize=True) * 100  # Convert ratios to percentages\n",
    "\n",
    "    # Print the ratios\n",
    "    print(f\"Ratios of values in {column_name}:\")\n",
    "    print(value_ratios)\n",
    "\n",
    "    # Plot the ratios\n",
    "    ax = value_ratios.plot(kind='bar')\n",
    "    ax.set_facecolor('white')  # 축의 배경색을 하얀색으로 설정\n",
    "    ax.grid(False)  # 그리드 제거\n",
    "    plt.title(f\"Ratios of values in {column_name}\")\n",
    "    plt.xlabel('Value')\n",
    "    plt.ylabel('Ratio (%)')\n",
    "\n",
    "    # Annotate the bars with the ratio percentages\n",
    "    for p in ax.patches:\n",
    "        ax.annotate(f\"{p.get_height():.1f}%\", (p.get_x() + p.get_width() / 2., p.get_height()),\n",
    "                    ha='center', va='center', xytext=(0, 10), textcoords='offset points')\n",
    "\n",
    "    plt.tight_layout()  # Adjust layout to make room for the annotations\n",
    "    plt.show()\n",
    "\n",
    "bar_value_ratios(df_train, 'bant_submit')"
   ],
   "metadata": {
    "collapsed": false,
    "pycharm": {
     "name": "#%%\n"
    }
   }
  },
  {
   "cell_type": "code",
   "execution_count": null,
   "outputs": [],
   "source": [
    "#feature 내 class count 한번에 비교(true ratio X)\n",
    "def plot_categorical_distribution(df, column_names):\n",
    "    # 서브플롯의 개수는 column_names 리스트의 길이에 따라 달라집니다.\n",
    "    fig, axes = plt.subplots(1, len(column_names), figsize=(14, 7), sharey=True)\n",
    "\n",
    "    # 각 카테고리에 대한 카운트 플롯을 그립니다.\n",
    "    for i, column in enumerate(column_names):\n",
    "        sns.countplot(x=df[column], ax=axes[i], palette=\"Set2\", edgecolor='black')\n",
    "        axes[i].set_facecolor('white')  # 축의 배경색을 하얀색으로 설정\n",
    "        axes[i].grid(False)  # 그리드 제거\n",
    "        axes[i].margins(0.12, 0.15)\n",
    "        axes[i].xaxis.label.set_size(12)\n",
    "        axes[i].xaxis.label.set_weight('bold')\n",
    "\n",
    "    # 전체 그림의 제목을 추가합니다.\n",
    "    plt.suptitle('Categorical Distribution',\n",
    "                 fontsize=17,\n",
    "                 fontweight='bold',\n",
    "                 x=0.05, y=1.06,\n",
    "                 ha='left')\n",
    "\n",
    "    plt.tight_layout()\n",
    "    plt.show()\n",
    "\n",
    "# 함수 사용 예시\n",
    "plot_categorical_distribution(df_train, ['enterprise', 'ver_cus', 'ver_pro'])"
   ],
   "metadata": {
    "collapsed": false,
    "pycharm": {
     "name": "#%%\n"
    }
   }
  },
  {
   "cell_type": "code",
   "execution_count": null,
   "outputs": [],
   "source": [
    "# 각 (cateogory) featrue 내 class 분포\n",
    "\n",
    "def pie_bar_cat_column(df_input, column_name, target):\n",
    "    # Determine the number of unique values\n",
    "    unique_values = df_input[column_name].nunique()\n",
    "\n",
    "    # Adjust subplot arrangement based on the number of unique values\n",
    "    if unique_values > 15:\n",
    "        fig, axes = plt.subplots(2, 1, figsize=(10, 12))  # Top-bottom layout for more than 15 unique values\n",
    "        rotation_angle = 90\n",
    "    else:\n",
    "        fig, axes = plt.subplots(1, 2, figsize=(18, 5.5))  # Side-by-side layout for 15 or fewer unique values\n",
    "        rotation_angle = 45\n",
    "\n",
    "    # Sort the categories\n",
    "    sorted_categories = df_input[column_name].value_counts().sort_index().index # 1번 해시태그\n",
    "\n",
    "    # Plot the pie chart\n",
    "    colors = ['#ff9999', '#ffc000', '#8fd9b6', '#d395d0', 'whitesmoke']\n",
    "    df_input[column_name].value_counts().loc[sorted_categories].plot.pie(autopct='%1.1f%%', ax=axes[0] if unique_values <= 15 else axes[0], shadow=True, colors = colors)\n",
    "    axes[0].set_ylabel('')  # Clear the y-axis label for the pie chart for neatness\n",
    "\n",
    "    # Plot the count plot\n",
    "    # Note: We ensure that the data is sorted according to the sorted categories for the count plot\n",
    "    sorted_df = df_input.sort_values(by=column_name) # 2번 해시태그\n",
    "    ax_countplot = sns.countplot(x=column_name, data=sorted_df, ax=axes[1] if unique_values <= 15 else axes[1], hue=target, order=sorted_categories, palette='pastel')\n",
    "\n",
    "    # Rotate x-axis labels without triggering the warning\n",
    "    for label in ax_countplot.get_xticklabels():\n",
    "        label.set_rotation(rotation_angle)\n",
    "        label.set_ha(\"right\")\n",
    "    axes[1].set_facecolor('white')  # 축의 배경색을 하얀색으로 설정\n",
    "    axes[1].grid(False)  # 그리드 제거\n",
    "    axes[1].set_ylabel('Count')  # Add y-axis label for clarity\n",
    "    axes[1].set_title(f'Distribution of {column_name} by {target}')  # Set title for each subplot for clarity\n",
    "\n",
    "    plt.suptitle(f'{column_name} Analysis', fontsize=16)  # Adjust the main title\n",
    "    plt.tight_layout(rect=[0, 0.03, 1, 0.95])  # Adjust the layout to make room for the suptitle and x-axis labels\n",
    "    plt.show()\n",
    "\n",
    "pie_bar_cat_column(df_train, 'business_unit', 'is_converted')"
   ],
   "metadata": {
    "collapsed": false,
    "pycharm": {
     "name": "#%%\n"
    }
   }
  },
  {
   "cell_type": "code",
   "execution_count": null,
   "outputs": [],
   "source": [
    "# {data_count 기준 내림차순으로 상위 10개 시각화 + True_ratio}\n",
    "# - 변수 내 class 10개 이상인 경우, class_count 갯수 내림차순으로 상위 10개만 뽑아 시각화\n",
    "# - True ratio : 각 class내에 Ture/(False+Ture)\n",
    "\n",
    "def bar_top_categories_with_ratio(df, column_name, top_n=10, target='is_converted'):\n",
    "    # 상위 N개의 카테고리 선택\n",
    "    top_categories = df[column_name].value_counts().head(top_n).index\n",
    "\n",
    "    # 각 카테고리 별로 target의 True, False 개수 집계\n",
    "    agg_df = df[df[column_name].isin(top_categories)].groupby([column_name, target]).size().unstack(fill_value=0)\n",
    "\n",
    "    # True와 False의 합계를 기준으로 내림차순 정렬\n",
    "    agg_df['total'] = agg_df.sum(axis=1)\n",
    "    agg_df_sorted = agg_df.sort_values(by='total', ascending=False).drop('total', axis=1)\n",
    "\n",
    "    # Stacked bar plot 시각화\n",
    "    fig, ax = plt.subplots(figsize=(10, 6))\n",
    "    colors = sns.color_palette(\"pastel\")[0:2]  # 파스텔톤 색상 지정\n",
    "    agg_df_sorted.plot(kind='barh', stacked=True, color=colors, ax=ax)\n",
    "\n",
    "    plt.title(f'Top {top_n} {column_name} by Conversion Status - Descending Order')\n",
    "    plt.xlabel('Count')\n",
    "    plt.ylabel(column_name)\n",
    "    plt.legend(title='Is Converted', labels=['False', 'True'], loc='lower right')\n",
    "    ax.set_facecolor('white')  # 축의 배경색을 하얀색으로 설정\n",
    "    ax.grid(False)  # 그리드 제거\n",
    "    plt.gca().invert_yaxis()  # y축의 순서를 뒤집어 내림차순으로 표시\n",
    "\n",
    "    # True Ratio 값을 막대 위에 표시\n",
    "    for index, (category, row) in enumerate(agg_df_sorted.iterrows()):\n",
    "        total_count = row.sum()\n",
    "        true_ratio = row[True] / total_count if total_count > 0 else 0\n",
    "        # 막대의 오른쪽 끝에 True Ratio 텍스트 추가\n",
    "        ax.text(row.sum(), index, f' True Ratio: {true_ratio:.2f}', va='center', ha='left')\n",
    "\n",
    "    plt.show()\n",
    "\n",
    "\n",
    "bar_top_categories_with_ratio(df_train, 'bant_submit', top_n=10, target='is_converted')"
   ],
   "metadata": {
    "collapsed": false,
    "pycharm": {
     "name": "#%%\n"
    }
   }
  },
  {
   "cell_type": "code",
   "execution_count": null,
   "outputs": [],
   "source": [
    "# 각 feature 내 클래스의 False, True bar 따로 그림\n",
    "\n",
    "def double_bar_cat_columns(df_input, categorical_vars, target):\n",
    "    for column in categorical_vars:\n",
    "        if column == target:\n",
    "            continue\n",
    "\n",
    "        # Determine the number of unique values\n",
    "        unique_values = df_input[column].nunique()\n",
    "\n",
    "        # Create figure for the count plot\n",
    "        plt.figure(figsize=(18, 5.5))  # Size for a single count plot\n",
    "\n",
    "        # Sort the categories\n",
    "        sorted_categories = df_input[column].value_counts().sort_index().index\n",
    "\n",
    "        # Plot the count plot with pastel palette\n",
    "        ax_countplot = sns.countplot(x=column, data=df_input, hue=target, order=sorted_categories, palette='pastel')\n",
    "        ax_countplot.grid(False)  # Disable the grid\n",
    "        ax_countplot.set_facecolor('white')  # Set background to white\n",
    "\n",
    "        # Set x-axis labels to be horizontal\n",
    "        ax_countplot.set_xticklabels(ax_countplot.get_xticklabels(), rotation=0, ha=\"center\")\n",
    "\n",
    "        plt.ylabel('Count')  # Add y-axis label for clarity\n",
    "        plt.title(f'Distribution of {column} by {target}')  # Set title for clarity\n",
    "\n",
    "        plt.suptitle(f'{column} Analysis', fontsize=16)  # Adjust the main title\n",
    "        plt.tight_layout(rect=[0, 0.03, 1, 0.95])  # Adjust the layout\n",
    "        plt.show()\n",
    "\n",
    "double_bar_cat_columns(df_train, ['bant_submit'], target='is_converted')"
   ],
   "metadata": {
    "collapsed": false,
    "pycharm": {
     "name": "#%%\n"
    }
   }
  },
  {
   "cell_type": "code",
   "execution_count": null,
   "outputs": [],
   "source": [
    "# 클래스별 is_converted 비율만 보기\n",
    "def bar_true_ratio(df_input, column_name):\n",
    "    class_conversion_ratio = df_input.groupby(column_name)['is_converted'].mean().reset_index()\n",
    "\n",
    "    class_conversion_ratio_sorted = class_conversion_ratio.sort_values(by='is_converted', ascending=False)\n",
    "\n",
    "    plt.figure(figsize=(12, 8))\n",
    "    # x,y 값 & label 바꾸면 됌\n",
    "    sns.barplot(x='is_converted', y=column_name, data=class_conversion_ratio_sorted, palette='pastel')\n",
    "    plt.xlabel('Is Converted Ratio')\n",
    "    plt.ylabel('Response Corporate')\n",
    "    plt.title('Is Converted Ratio by Response Corporate (Sorted by Size)')\n",
    "\n",
    "    # 현재의 Axes 객체를 가져와서 그리드를 제거\n",
    "    ax = plt.gca()\n",
    "    ax.grid(False)  # 그리드 비활성화\n",
    "\n",
    "    # 배경색을 하얀색으로 설정\n",
    "    ax.set_facecolor('white')\n",
    "\n",
    "    plt.show()\n",
    "\n",
    "bar_true_ratio(df_train, 'response_corporate')"
   ],
   "metadata": {
    "collapsed": false,
    "pycharm": {
     "name": "#%%\n"
    }
   }
  },
  {
   "cell_type": "code",
   "execution_count": null,
   "outputs": [],
   "source": [
    "# 각 feature 내 class의 true ratio\n",
    "\n",
    "def show_binary_ratio(df_input, column_name: str, target: str):\n",
    "    print(f'{column_name}: {df_input[column_name].notnull().sum()}')\n",
    "\n",
    "    # Get unique values in the column\n",
    "    unique_values = sorted(df_input[column_name].dropna().unique())\n",
    "\n",
    "    longest_str = max(len(f\"    {value}\" ) for value in unique_values)\n",
    "    for value in unique_values:\n",
    "        # For each unique value, count occurrences of target 0 and 1\n",
    "        count_0 = df_input[(df_input[column_name] == value) & (df_input[target] == False)].shape[0]\n",
    "        count_1 = df_input[(df_input[column_name] == value) & (df_input[target] == True)].shape[0]\n",
    "        count_01 = count_0 + count_1\n",
    "\n",
    "        # Print counts for target 0 and 1 with indentation\n",
    "        #print(f\"{column}\".ljust(longest_str)\n",
    "        print(f'    {value}'.ljust(longest_str), end=' ')\n",
    "        print(f'True Ratio: {count_1 / count_01:.2f}, Total Count: {count_01}')\n",
    "\n",
    "    # Print a blank line for better readability between columns\n",
    "    print()\n",
    "\n",
    "show_binary_ratio(df_train,  'business_subarea', target='is_converted')"
   ],
   "metadata": {
    "collapsed": false,
    "pycharm": {
     "name": "#%%\n"
    }
   }
  },
  {
   "cell_type": "code",
   "execution_count": null,
   "outputs": [],
   "source": [
    "# 결측치 시각화\n",
    "msno.matrix(df_train)\n",
    "\n",
    "# 특정 컬럼 기준 정렬된 결측치 시각화\n",
    "# sorted_bus_area = df_train.sort_values('business_area')\n",
    "# msno.matrix(sorted_bus_area)"
   ],
   "metadata": {
    "collapsed": false,
    "pycharm": {
     "name": "#%%\n"
    }
   }
  },
  {
   "cell_type": "code",
   "execution_count": null,
   "outputs": [],
   "source": [
    "def show_missing_rates(df_input, selected_columns=None):\n",
    "    # Calculate the total number of rows in the DataFrame\n",
    "    total_rows = len(df_input)\n",
    "\n",
    "    if selected_columns is None:\n",
    "        selected_columns = df_input.columns\n",
    "\n",
    "    # Find the longest column name for formatting\n",
    "    # Determine the longest string needed for formatting the column name and its data type\n",
    "    longest_str = max(len(f\"{column}\" ) for column in selected_columns)\n",
    "    #longest_column_name = max(len(column) for column in selected_columns)\n",
    "\n",
    "    # Iterate over each column in the DataFrame\n",
    "    for column in selected_columns:\n",
    "        # Count the number of missing values in the column\n",
    "        missing_count = df_input[column].isna().sum()\n",
    "\n",
    "        # Calculate the percentage of missing values\n",
    "        missing_rate = (missing_count / total_rows) * 100\n",
    "\n",
    "        # Get the data type of the column\n",
    "        data_type = df_input[column].dtype\n",
    "\n",
    "        # Print the column name, its data type, and its missing rate with aligned formatting\n",
    "        print(f\"{column}\".ljust(longest_str) + f\": {missing_rate:5.2f}% missing values ({data_type})\" )\n",
    "\n",
    "\n",
    "show_missing_rates(df_train)"
   ],
   "metadata": {
    "collapsed": false,
    "pycharm": {
     "name": "#%%\n"
    }
   }
  },
  {
   "cell_type": "code",
   "execution_count": null,
   "outputs": [],
   "source": [
    "def plot_missing(df_input):\n",
    "    sns.displot(data=df_input.isnull().melt(value_name='missing'),\n",
    "        y='variable',\n",
    "        hue='missing',\n",
    "        multiple='fill',\n",
    "        height=8,\n",
    "    #     width=10,\n",
    "        aspect=1.6,\n",
    "        palette='pastel'\n",
    "    )\n",
    "\n",
    "    # specifying a threshold value\n",
    "    plt.axvline(0.4, color='r')\n",
    "    plt.title('Null Values in Train Data', fontsize=13)\n",
    "    plt.show()\n",
    "\n",
    "plot_missing(df_train)"
   ],
   "metadata": {
    "collapsed": false,
    "pycharm": {
     "name": "#%%\n"
    }
   }
  },
  {
   "cell_type": "code",
   "execution_count": null,
   "outputs": [],
   "source": [
    "# 두 feature 간 class 연관성 비교 → 일대일 대응인지 다대일 대응인지 관계 알 수 있음\n",
    "\n",
    "def compare_features_class(df_input, cloumn_names:list):\n",
    "    # Drop rows where any of the two columns is NaN\n",
    "    df_cleaned = df_input.dropna(subset=cloumn_names)\n",
    "\n",
    "    # Create a pivot table with counts of each combination\n",
    "    pivot_table = df_cleaned.pivot_table(index=cloumn_names[0], columns=cloumn_names[1], aggfunc=len, fill_value=0)\n",
    "\n",
    "    # Plot heatmap\n",
    "    plt.figure(figsize=(45, 15))\n",
    "    sns.heatmap(pivot_table, annot=True, cmap=\"Blues\", fmt=\"d\")\n",
    "    plt.title(f'Heatmap of{cloumn_names[0]} vs. {cloumn_names[1]}')\n",
    "    plt.ylabel(cloumn_names[0])\n",
    "    plt.xlabel(cloumn_names[1])\n",
    "    plt.xticks(rotation=90)\n",
    "    plt.show()\n",
    "\n",
    "compare_features_class(df_train, ['business_area', 'business_subarea'])"
   ],
   "metadata": {
    "collapsed": false,
    "pycharm": {
     "name": "#%%\n"
    }
   }
  },
  {
   "cell_type": "code",
   "execution_count": null,
   "outputs": [],
   "source": [
    "# 특정 feature 내 True 분포를 산점도로 나타내기\n",
    "\n",
    "def scatter_column_ratio(df_input, colume_name:str):\n",
    "    class_conversion_ratio = df_input.groupby(colume_name)['is_converted'].mean().reset_index()\n",
    "    temp = df_input[colume_name].value_counts()\n",
    "    merged_df = pd.merge(class_conversion_ratio, temp, on=colume_name)\n",
    "\n",
    "    print(merged_df.head())\n",
    "\n",
    "    plt.figure(figsize=(8, 6))\n",
    "    sns.scatterplot(data=merged_df, x='count', y='is_converted', color='blue', alpha=0.5)\n",
    "\n",
    "    plt.xlim(0, 1000)\n",
    "    plt.xlabel('cnt')\n",
    "    plt.ylabel('is_converted')\n",
    "    plt.title('Scatter Plot of cnt vs. is_converted')\n",
    "    plt.grid(True)\n",
    "    plt.show()\n",
    "\n",
    "scatter_column_ratio(df_train, 'lead_owner')"
   ],
   "metadata": {
    "collapsed": false,
    "pycharm": {
     "name": "#%%\n"
    }
   }
  },
  {
   "cell_type": "code",
   "execution_count": null,
   "outputs": [],
   "source": [
    "# train, test 존재하는 데이터 분포 알기\n",
    "def plot_pie_chart(train, test, feat_names):\n",
    "    fig, axs = plt.subplots(len(feat_names), 1, figsize=(16, 64))\n",
    "    axs = axs.flatten()\n",
    "\n",
    "    for i, feat_name in enumerate(feat_names):\n",
    "        train_set = set(train[feat_name])\n",
    "        test_set = set(test[feat_name])\n",
    "\n",
    "        both_set = train_set & test_set\n",
    "        only_train = train_set - both_set\n",
    "        only_test = test_set - both_set\n",
    "\n",
    "        num_train, num_test, num_both = 0, 0, 0\n",
    "        for cls in only_train:\n",
    "            num_train += len(train[train[feat_name] == cls])\n",
    "\n",
    "        for cls in only_test:\n",
    "            num_test += len(test[test[feat_name] == cls])\n",
    "\n",
    "        for cls in both_set:\n",
    "            num_both += len(train[train[feat_name] == cls]) + len(test[test[feat_name] == cls])\n",
    "\n",
    "        # 각 집합의 크기 계산\n",
    "        sizes = [num_train, num_both, num_test]\n",
    "        labels = ['Only Train', 'Both', 'Only Test']\n",
    "        colors = ['lightcoral', 'lightskyblue', 'lightgreen']\n",
    "\n",
    "        # 파이 차트 그리기\n",
    "        axs[i].set_facecolor('white')  # 축의 배경색을 하얀색으로 설정\n",
    "        axs[i].grid(False)  # 그리드 제거\n",
    "        axs[i].pie(sizes, labels=labels, colors=colors, autopct='%1.1f%%', startangle=140)\n",
    "        axs[i].axis('equal')\n",
    "        axs[i].set_title(f'{feat_name}')\n",
    "\n",
    "    plt.tight_layout()\n",
    "    plt.show()\n",
    "plot_pie_chart(df_train, df_test, ['customer_idx', 'business_unit'])"
   ],
   "metadata": {
    "collapsed": false,
    "pycharm": {
     "name": "#%%\n"
    }
   }
  },
  {
   "cell_type": "code",
   "execution_count": null,
   "outputs": [],
   "source": [
    "# class별 value_counts로 그리기\n",
    "def plot_pie_chart_fillna(train, test, feat_names):\n",
    "    fig, axs = plt.subplots(len(feat_names), 1, figsize=(16, 64))\n",
    "    axs = axs.flatten()\n",
    "\n",
    "    for i, feat_name in enumerate(feat_names):\n",
    "        train_set = set(train[feat_name])\n",
    "        test_set = set(test[feat_name])\n",
    "\n",
    "        both_set = train_set & test_set\n",
    "        only_train = train_set - both_set\n",
    "        only_test = test_set - both_set\n",
    "\n",
    "        num_train, num_test, num_both, num_na = 0, 0, 0, 0\n",
    "        num_na = train[feat_name].isna().sum() + test[feat_name].isna().sum()\n",
    "        for cls in only_train:\n",
    "            num_train += len(train[train[feat_name] == cls])\n",
    "\n",
    "        for cls in only_test:\n",
    "            num_test += len(test[test[feat_name] == cls])\n",
    "\n",
    "        for cls in both_set:\n",
    "            num_both += len(train[train[feat_name] == cls]) + len(test[test[feat_name] == cls])\n",
    "\n",
    "        # 각 집합의 크기 계산\n",
    "        sizes = [num_train, num_both, num_test, num_na]\n",
    "        labels = ['Only Train', 'Both', 'Only Test', 'UNK']\n",
    "        colors = ['lightcoral', 'lightskyblue', 'lightgreen', 'lightgray']\n",
    "\n",
    "        # 파이 차트 그리기\n",
    "        axs[i].set_facecolor('white')  # 축의 배경색을 하얀색으로 설정\n",
    "        axs[i].grid(False)  # 그리드 제거\n",
    "        axs[i].pie(sizes, labels=labels, colors=colors, autopct='%1.1f%%', startangle=140)\n",
    "        axs[i].axis('equal')\n",
    "        axs[i].set_title(f'{feat_name}')\n",
    "\n",
    "    plt.tight_layout()\n",
    "    plt.show()\n",
    "\n",
    "plot_pie_chart_fillna(df_train, df_test, ['customer_idx', 'business_unit'])"
   ],
   "metadata": {
    "collapsed": false,
    "pycharm": {
     "name": "#%%\n"
    }
   }
  },
  {
   "cell_type": "code",
   "execution_count": null,
   "outputs": [],
   "source": [
    "#featrue describe boxplot\n",
    "def describe_boxplot(df_input,column_name):\n",
    "    print(df_input[column_name].describe())\n",
    "    plt.figure(figsize = (2, 5))\n",
    "    sns.boxplot(y = column_name, data = df_input)\n",
    "    plt.show()\n",
    "\n",
    "describe_boxplot(df_train,'ver_win_ratio_per_bu')"
   ],
   "metadata": {
    "collapsed": false,
    "pycharm": {
     "name": "#%%\n"
    }
   }
  },
  {
   "cell_type": "code",
   "execution_count": null,
   "outputs": [],
   "source": [
    "# feature 내 상위 50개 클래스 분포 막대그래프 & 워드 클라우드 시각화\n",
    "def wordcloud_visualize(df):\n",
    "\n",
    "    # 토큰과 빈도수를 따로 분리합니다.\n",
    "    tokens = list(df.value_counts().keys())\n",
    "    frequencies = df.value_counts()\n",
    "\n",
    "    # 상위 n개의 토큰만 선택하여 시각화할 수도 있습니다.\n",
    "    n = 50\n",
    "    top_tokens = tokens[:n]\n",
    "    top_frequencies = frequencies[:n]\n",
    "\n",
    "    # 막대 그래프로 시각화합니다.\n",
    "    plt.figure(figsize=(10, 6))\n",
    "    plt.bar(range(len(top_tokens)), top_frequencies, tick_label=top_tokens)\n",
    "    plt.xlabel('Token')\n",
    "    plt.ylabel('Frequency')\n",
    "    plt.title('Top {} Tokens Frequency'.format(n))\n",
    "    plt.xticks(rotation=90)\n",
    "    plt.tight_layout()\n",
    "    plt.show()\n",
    "\n",
    "    # 워드 클라우드로 시각화합니다.\n",
    "    wordcloud = WordCloud(width=800, height=400, background_color='white').generate_from_frequencies(frequencies)\n",
    "    plt.figure(figsize=(10, 6))\n",
    "    plt.imshow(wordcloud, interpolation='bilinear')\n",
    "    plt.axis('off')\n",
    "    plt.title('Word Cloud of Tokens')\n",
    "    plt.show()\n",
    "\n",
    "wordcloud_visualize(df_train['customer_country'])"
   ],
   "metadata": {
    "collapsed": false,
    "pycharm": {
     "name": "#%%\n"
    }
   }
  },
  {
   "cell_type": "code",
   "execution_count": null,
   "outputs": [],
   "source": [
    "# 비슷한 값 처리\n",
    "# df_copy = df_train.copy()\n",
    "# df_copy.loc[df_copy['customer_job'] == 'others', 'customer_job'] = 'other'\n",
    "\n",
    "# feature 내 n 이상 , m 미만의 개수 이상 나오는 것들만 필터링\n",
    "\n",
    "def threshold_counts(df_input, column_name,n,m):\n",
    "    nunique = []\n",
    "    threshold_list = []\n",
    "\n",
    "    # 값의 개수를 세고, 일정 개수 이상 나오는 것들만 필터링\n",
    "    for threshold in range(n, m):\n",
    "        threshold = threshold\n",
    "        value_counts = df_input[column_name].value_counts()\n",
    "        filtered_values = value_counts[value_counts >= threshold].index\n",
    "\n",
    "        # 필터링된 값들로 DataFrame 필터링\n",
    "        filtered_df = df_input[df_input[column_name].isin(filtered_values)]\n",
    "\n",
    "        threshold_list.append(threshold)\n",
    "        nunique.append(filtered_df[column_name].nunique())\n",
    "    # 그래프 그리기\n",
    "    plt.plot(threshold_list, nunique)\n",
    "\n",
    "    # 그래프 제목과 축 라벨 설정\n",
    "    plt.title('Num of unique value with threshold filtering')\n",
    "    plt.xlabel('Threshold')\n",
    "    plt.ylabel('Num of unique value')\n",
    "\n",
    "    # 그래프 보여주기\n",
    "    plt.show()\n",
    "\n",
    "threshold_counts(df_train, 'customer_job',1,50)"
   ],
   "metadata": {
    "collapsed": false,
    "pycharm": {
     "name": "#%%\n"
    }
   }
  },
  {
   "cell_type": "code",
   "execution_count": 38,
   "outputs": [
    {
     "output_type": "display_data",
     "data": {
      "text/plain": [
       "<Figure size 640x480 with 1 Axes>"
      ],
      "image/png": "[encoded data removed]"
     },
     "metadata": {}
    }
   ],
   "source": [
    "# 비슷한 값 처리\n",
    "# df_copy = df_train.copy()\n",
    "# df_copy.loc[df_copy['customer_job'] == 'others', 'customer_job'] = 'other'\n",
    "\n",
    "# feature 내 n 이상 , m 미만의 개수 이상 나오는 것들만 필터링\n",
    "\n",
    "def threshold_counts(df_input, column_name,n,m):\n",
    "    nunique = []\n",
    "    threshold_list = []\n",
    "\n",
    "    # 값의 개수를 세고, 일정 개수 이상 나오는 것들만 필터링\n",
    "    for threshold in range(n, m):\n",
    "        threshold = threshold\n",
    "        value_counts = df_input[column_name].value_counts()\n",
    "        filtered_values = value_counts[value_counts >= threshold].index\n",
    "\n",
    "        # 필터링된 값들로 DataFrame 필터링\n",
    "        filtered_df = df_input[df_input[column_name].isin(filtered_values)]\n",
    "\n",
    "        threshold_list.append(threshold)\n",
    "        nunique.append(filtered_df[column_name].nunique())\n",
    "    # 그래프 그리기\n",
    "    plt.plot(threshold_list, nunique)\n",
    "\n",
    "    # 그래프 제목과 축 라벨 설정\n",
    "    plt.title('Num of unique value with threshold filtering')\n",
    "    plt.xlabel('Threshold')\n",
    "    plt.ylabel('Num of unique value')\n",
    "\n",
    "    # 그래프 보여주기\n",
    "    plt.show()\n",
    "\n",
    "threshold_counts(df_train, 'customer_job',1,50)"
   ],
   "metadata": {
    "pycharm": {
     "name": "#%%\n"
    },
    "colab": {
     "base_uri": "https://localhost:8080/",
     "height": 472
    },
    "id": "7jJO8cpkA5Ln",
    "outputId": "499238ab-23f4-486e-8218-4b7cc6d758f5"
   }
  },
  {
   "cell_type": "code",
   "execution_count": 23,
   "outputs": [],
   "source": [],
   "metadata": {
    "pycharm": {
     "name": "#%%\n"
    },
    "id": "6oHYfLcsA5Ln"
   }
  }
 ],
 "metadata": {
  "kernelspec": {
   "display_name": "Python 3",
   "language": "python",
   "name": "python3"
  },
  "language_info": {
   "codemirror_mode": {
    "name": "ipython",
    "version": 2
   },
   "file_extension": ".py",
   "mimetype": "text/x-python",
   "name": "python",
   "nbconvert_exporter": "python",
   "pygments_lexer": "ipython2",
   "version": "2.7.6"
  },
  "colab": {
   "provenance": []
  }
 },
 "nbformat": 4,
 "nbformat_minor": 0
}